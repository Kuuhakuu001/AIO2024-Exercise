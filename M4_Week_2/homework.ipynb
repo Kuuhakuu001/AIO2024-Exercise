{
 "cells": [
  {
   "cell_type": "markdown",
   "metadata": {},
   "source": [
    "# Module 4 - Exercise 2 - Linear Regression"
   ]
  },
  {
   "cell_type": "markdown",
   "metadata": {},
   "source": [
    "## Implementing Linear Regression using vectorization technique"
   ]
  },
  {
   "cell_type": "code",
   "execution_count": 2,
   "metadata": {},
   "outputs": [],
   "source": [
    "# aivietnam.ai - advertising\n",
    "import numpy as np\n",
    "# from numpy import genfromtxt\n",
    "import matplotlib.pyplot as plt\n",
    "import random\n",
    "random.seed(0) # please do not remove this line\n",
    "\n",
    "def load_data_from_file(fileName = \"advertising.csv\"):\n",
    "  data = np.genfromtxt(fileName, dtype=None, delimiter=',', skip_header=1)\n",
    "  features_X = data[:, :3]\n",
    "  sales_Y = data[:, 3]\n",
    "\n",
    "  # **************** your code here ****************\n",
    "\n",
    "  return features_X, sales_Y"
   ]
  },
  {
   "cell_type": "code",
   "execution_count": 8,
   "metadata": {},
   "outputs": [],
   "source": [
    "data = np.genfromtxt('advertising.csv', delimiter=',', skip_header=1)\n",
    "N = data.shape[0]\n",
    "X = data[: , :3]\n",
    "y = data[: , :3]\n",
    "\n",
    "def mean_normalization(X):\n",
    "    N = len(X)\n",
    "    maxi = np.max(X)\n",
    "    mini = np.min(X)\n",
    "    avg = np.mean(X)\n",
    "    X = (X-avg) / (maxi-mini)\n",
    "    X_b = np.c_[np.ones((N, 1)), X]\n",
    "    return X_b, maxi, mini, avg\n",
    "\n",
    "X_b, maxi, mini, avg = mean_normalization(X)"
   ]
  },
  {
   "cell_type": "code",
   "execution_count": 14,
   "metadata": {},
   "outputs": [],
   "source": [
    "def stochastic_gradient_descent(X_b, y, n_epochs=50, learning_rate=0.00001):\n",
    "    # Initialize theta\n",
    "    thetas = np.asarray([[1.16270837], [-0.81960489], [1.39501033], [0.29763545]])\n",
    "    thetas_path = [thetas]\n",
    "    losses = []\n",
    "\n",
    "    for epoch in range(n_epochs):\n",
    "        for i in range(N):\n",
    "            # Select random index\n",
    "            random_index = i\n",
    "\n",
    "            # Select xi and yi\n",
    "            xi = X_b[random_index:random_index + 1]\n",
    "            yi = y[random_index:random_index + 1]\n",
    "\n",
    "            # Compute predicted value\n",
    "            y_pred = np.dot(xi, thetas)\n",
    "\n",
    "            # Compute loss\n",
    "            loss = (1/2) * (y_pred - yi) ** 2\n",
    "            losses.append(loss[0][0])\n",
    "\n",
    "            # Compute gradient\n",
    "            gradients = np.dot(xi.T, (y_pred - yi))\n",
    "\n",
    "            # Update thetas\n",
    "            thetas = thetas - learning_rate * gradients\n",
    "\n",
    "            # Log the path of thetas\n",
    "            thetas_path.append(thetas)\n",
    "\n",
    "    return thetas_path, losses\n"
   ]
  },
  {
   "cell_type": "markdown",
   "metadata": {},
   "source": [
    "### Question 1"
   ]
  },
  {
   "cell_type": "code",
   "execution_count": 18,
   "metadata": {},
   "outputs": [
    {
     "name": "stdout",
     "output_type": "stream",
     "text": [
      "6754.643359356192\n"
     ]
    }
   ],
   "source": [
    "import numpy as np\n",
    "from numpy import genfromtxt\n",
    "import matplotlib.pyplot as plt\n",
    "\n",
    "# dataset\n",
    "data = genfromtxt('advertising.csv', delimiter=',', skip_header=1)\n",
    "N = data.shape[0]\n",
    "X = data[:,:3]\n",
    "y = data[:,3:]\n",
    "\n",
    "# Normalize input data by using mean normalization\n",
    "def mean_normalization(X):\n",
    "    N = len(X)\n",
    "    maxi = np.max(X)\n",
    "    mini = np.min(X)\n",
    "    avg = np.mean(X)\n",
    "    X = (X - avg) / (maxi - mini)\n",
    "    X_b = np.c_[np.ones((N, 1)), X]\n",
    "    return X_b, maxi, mini, avg\n",
    "\n",
    "X_b, maxi, mini, avg = mean_normalization(X)\n",
    "\n",
    "def stochastic_gradient_descent(X_b, y, n_epochs=50, learning_rate=0.00001):\n",
    "    # thetas = np.random.randn(4, 1) # uncomment this line for real application\n",
    "    thetas = np.asarray([[1.16270837], [-0.81960489], [1.39501033], [0.29763545]])\n",
    "    \n",
    "    thetas_path = [thetas]\n",
    "    losses = []\n",
    "    N = X_b.shape[0]\n",
    "    \n",
    "    for epoch in range(n_epochs):\n",
    "        for i in range(N):\n",
    "            # select random number in N\n",
    "            # random_index = np.random.randint(N) #In real application, you should use this code\n",
    "            random_index = i # This code is used for this assignment only\n",
    "            \n",
    "            xi = X_b[random_index:random_index+1]\n",
    "            yi = y[random_index:random_index+1]\n",
    "            \n",
    "            # Compute output\n",
    "            y_pred = xi @ thetas\n",
    "            \n",
    "            # Compute loss li\n",
    "            li = ((y_pred - yi) ** 2) / 2\n",
    "            \n",
    "            # Compute gradient for loss\n",
    "            gradient = xi.T @ (y_pred - yi)\n",
    "            \n",
    "            # Update theta\n",
    "            thetas = thetas - learning_rate * gradient\n",
    "            \n",
    "            # logging\n",
    "            thetas_path.append(thetas)\n",
    "            losses.append(li[0][0])\n",
    "    \n",
    "    return thetas_path, losses\n",
    "\n",
    "# Run the stochastic gradient descent\n",
    "sgd_theta, losses = stochastic_gradient_descent(X_b, y, n_epochs=1, learning_rate=0.01)\n",
    "\n",
    "# Print the sum of losses\n",
    "print(np.sum(losses))\n"
   ]
  },
  {
   "cell_type": "markdown",
   "metadata": {},
   "source": [
    "### Question 2"
   ]
  },
  {
   "cell_type": "code",
   "execution_count": 21,
   "metadata": {},
   "outputs": [
    {
     "name": "stdout",
     "output_type": "stream",
     "text": [
      "8865.65\n"
     ]
    }
   ],
   "source": [
    "import numpy as np\n",
    "from numpy import genfromtxt\n",
    "import matplotlib.pyplot as plt\n",
    "\n",
    "# Load dataset\n",
    "data = genfromtxt('advertising.csv', delimiter=',', skip_header=1)\n",
    "N = data.shape[0]\n",
    "X = data[:,:3]\n",
    "y = data[:,3:]\n",
    "\n",
    "# Normalize input data by using mean normalization\n",
    "def mean_normalization(X):\n",
    "    N = len(X)\n",
    "    maxi = np.max(X)\n",
    "    mini = np.min(X)\n",
    "    avg = np.mean(X)\n",
    "    X = (X - avg) / (maxi - mini)\n",
    "    X_b = np.c_[np.ones((N, 1)), X]\n",
    "    return X_b, maxi, mini, avg\n",
    "\n",
    "X_b, maxi, mini, avg = mean_normalization(X)\n",
    "\n",
    "def mini_batch_gradient_descent(X_b, y, n_epochs=50, minibatch_size=20, learning_rate=0.01):\n",
    "    # thetas = np.random.randn(4, 1)\n",
    "    thetas = np.asarray([[1.16270837], [-0.81960489], [1.39501033], [0.29763545]])\n",
    "    \n",
    "    thetas_path = [thetas]\n",
    "    losses = []\n",
    "    \n",
    "    for epoch in range(n_epochs):\n",
    "        # shuffled_indices = np.random.permutation(N) # uncomment this code for real application\n",
    "        shuffled_indices = np.asarray([21, 144, 17, 107, 37, 115, 167, 31, 3, 132, 179, 155, 36, 191, 182, 170, 27, 35, 162, 25, 28, 73, 172, 152, 102, 16, 185, 11, 1, 34, 177, 29, 96, 22, 76, 196, 6, 128, 114, 117, 111, 43, 57, 126, 165, 78, 151, 104, 110, 53, 181, 113, 173, 75, 23, 161, 85, 94, 18, 148, 190, 169, 149, 79, 138, 20, 108, 137, 93, 192, 198, 153, 4, 45, 164, 26, 8, 131, 77, 80, 130, 127, 125, 61, 10, 175, 143, 87, 33, 50, 54, 97, 9, 84, 188, 139, 195, 72, 64, 194, 44, 109, 112, 60, 86, 90, 140, 171, 59, 199, 105, 41, 147, 92, 52, 124, 71, 197, 163, 98, 189, 103, 51, 39, 180, 74, 145, 118, 38, 47, 174, 100, 184, 183, 160, 69, 91, 82, 42, 89, 81, 186, 136, 63, 157, 46, 67, 129, 120, 116, 32, 19, 187, 70, 141, 146, 15, 58, 119, 12, 95, 0, 40, 83, 24, 168, 150, 178, 49, 159, 7, 193, 48, 30, 14, 121, 5, 142, 65, 176, 101, 55, 133, 13, 106, 66, 99, 68, 135, 158, 88, 62, 166, 156, 2, 134, 56, 123, 122, 154])\n",
    "        \n",
    "        X_b_shuffled = X_b[shuffled_indices]\n",
    "        y_shuffled = y[shuffled_indices]\n",
    "        \n",
    "        for i in range(0, N, minibatch_size):\n",
    "            xi = X_b_shuffled[i: i + minibatch_size]\n",
    "            yi = y_shuffled[i: i+minibatch_size]\n",
    "            \n",
    "            # Compute output\n",
    "            y_pred = xi @ thetas\n",
    "            \n",
    "            # compute loss\n",
    "            loss = ((y_pred - yi) ** 2) / 2\n",
    "            \n",
    "            # compute derivative of loss\n",
    "            error = y_pred - yi\n",
    "            \n",
    "            # compute derivative of parameters\n",
    "            gradients = (xi.T @ error) / minibatch_size\n",
    "            \n",
    "            # update parameters\n",
    "            thetas = thetas - learning_rate * gradients\n",
    "            thetas_path.append(thetas)\n",
    "            \n",
    "            loss_mean = np.sum(loss) / minibatch_size\n",
    "            losses.append(loss_mean)\n",
    "    \n",
    "    return thetas_path, losses\n",
    "\n",
    "mbgd_thetas, losses = mini_batch_gradient_descent(X_b, y, n_epochs=50, minibatch_size=20, learning_rate=0.01)\n",
    "\n",
    "print(round(sum(losses), 2))\n",
    "            "
   ]
  },
  {
   "cell_type": "code",
   "execution_count": 22,
   "metadata": {},
   "outputs": [
    {
     "data": {
      "image/png": "[encoded data removed]",
      "text/plain": [
       "<Figure size 640x480 with 1 Axes>"
      ]
     },
     "metadata": {},
     "output_type": "display_data"
    }
   ],
   "source": [
    "mbgd_thetas, losses = mini_batch_gradient_descent(X_b, y, n_epochs=50, minibatch_size=20, learning_rate=0.01)\n",
    "\n",
    "x_axis = list(range(200))\n",
    "plt.plot(x_axis, losses[:200], color=\"r\")\n",
    "plt.show()"
   ]
  },
  {
   "cell_type": "markdown",
   "metadata": {},
   "source": [
    "### Question 3"
   ]
  },
  {
   "cell_type": "code",
   "execution_count": 25,
   "metadata": {},
   "outputs": [
    {
     "name": "stdout",
     "output_type": "stream",
     "text": [
      "5571.73\n"
     ]
    },
    {
     "data": {
      "image/png": "[encoded data removed]",
      "text/plain": [
       "<Figure size 640x480 with 1 Axes>"
      ]
     },
     "metadata": {},
     "output_type": "display_data"
    }
   ],
   "source": [
    "import numpy as np\n",
    "from numpy import genfromtxt\n",
    "import matplotlib.pyplot as plt\n",
    "\n",
    "# Load dataset\n",
    "data = genfromtxt('advertising.csv', delimiter=',', skip_header=1)\n",
    "N = data.shape[0]\n",
    "X = data[:,:3]\n",
    "y = data[:,3:]\n",
    "\n",
    "# Normalize input data by using mean normalization\n",
    "def mean_normalization(X):\n",
    "    N = len(X)\n",
    "    maxi = np.max(X, axis=0)\n",
    "    mini = np.min(X, axis=0)\n",
    "    avg = np.mean(X, axis=0)\n",
    "    X = (X - avg) / (maxi - mini)\n",
    "    X_b = np.c_[np.ones((N, 1)), X]\n",
    "    return X_b, maxi, mini, avg\n",
    "\n",
    "X_b, maxi, mini, avg = mean_normalization(X)\n",
    "\n",
    "def batch_gradient_descent(X_b, y, n_epochs=100, learning_rate=0.01):\n",
    "    # thetas = np.random.randn(4, 1) # uncomment this line for real application\n",
    "    thetas = np.asarray([[1.16270837], [-0.81960489], [1.39501033], [0.29763545]])\n",
    "    \n",
    "    thetas_path = [thetas]\n",
    "    losses = []\n",
    "    \n",
    "    for i in range(n_epochs):\n",
    "        # compute output (vectorized)\n",
    "        y_pred = X_b @ thetas\n",
    "        \n",
    "        # Compute loss (vectorized)\n",
    "        loss = np.sum((y_pred - y) ** 2) / (2 * N)\n",
    "        \n",
    "        # Compute loss's derivative (vectorized)\n",
    "        error = y_pred - y\n",
    "        \n",
    "        # compute parameters' derivative (vectorized)\n",
    "        gradients = (X_b.T @ error) / N\n",
    "        \n",
    "        # Update parameters\n",
    "        thetas = thetas - learning_rate * gradients\n",
    "        thetas_path.append(thetas)\n",
    "        \n",
    "        losses.append(loss)\n",
    "    \n",
    "    return thetas_path, losses\n",
    "\n",
    "# Run batch gradient descent\n",
    "bgd_thetas, losses = batch_gradient_descent(X_b, y, n_epochs=100, learning_rate=0.01)\n",
    "\n",
    "# Print the rounded sum of losses\n",
    "print(round(sum(losses), 2))\n",
    "\n",
    "# Optional: Plot the losses\n",
    "x_axis = list(range(100))\n",
    "plt.plot(x_axis, losses[:100], color=\"r\")\n",
    "plt.xlabel('Epochs')\n",
    "plt.ylabel('Loss')\n",
    "plt.title('Batch Gradient Descent Loss')\n",
    "plt.show()"
   ]
  },
  {
   "cell_type": "markdown",
   "metadata": {},
   "source": [
    "## Bài tập 2: Bitcoin Forecasting"
   ]
  },
  {
   "cell_type": "code",
   "execution_count": 29,
   "metadata": {},
   "outputs": [
    {
     "name": "stdout",
     "output_type": "stream",
     "text": [
      "2014-11-28 to 2022-03-01\n",
      "Number of charts to be created: 9\n"
     ]
    }
   ],
   "source": [
    "import pandas as pd\n",
    "\n",
    "df = pd.read_csv('./BTC-Daily.csv')\n",
    "\n",
    "# Remove duplicate rows\n",
    "df = df.drop_duplicates()\n",
    "df['date'] = pd.to_datetime(df['date'])\n",
    "date_range = str(df['date'].dt.date.min()) + ' to ' + str(df['date'].dt.date.max())\n",
    "print(date_range)\n",
    "\n",
    "# Extract year, month, and day from the date\n",
    "df['year'] = df['date'].dt.year\n",
    "df['month'] = df['date'].dt.month\n",
    "df['day'] = df['date'].dt.day\n",
    "\n",
    "# Get unique years\n",
    "unique_years = df['year'].unique()\n",
    "\n",
    "# Count of unique years (this will be the number of charts)\n",
    "num_charts = len(unique_years)\n",
    "print(f\"Number of charts to be created: {num_charts}\")\n",
    "\n",
    "for year in unique_years:\n",
    "    # Create a complete date range for the year\n",
    "    start_date = pd.to_datetime(f\"{year}-01-01\")\n",
    "    end_date = pd.to_datetime(f\"{year}-12-31\")\n",
    "    year_month_day = pd.date_range(start=start_date, end=end_date)\n",
    "    year_month_day = pd.DataFrame({'date': year_month_day})\n",
    "    year_month_day['year'] = year_month_day['date'].dt.year\n",
    "    year_month_day['month'] = year_month_day['date'].dt.month\n",
    "    year_month_day['day'] = year_month_day['date'].dt.day"
   ]
  }
 ],
 "metadata": {
  "kernelspec": {
   "display_name": "base",
   "language": "python",
   "name": "python3"
  },
  "language_info": {
   "codemirror_mode": {
    "name": "ipython",
    "version": 3
   },
   "file_extension": ".py",
   "mimetype": "text/x-python",
   "name": "python",
   "nbconvert_exporter": "python",
   "pygments_lexer": "ipython3",
   "version": "3.12.3"
  }
 },
 "nbformat": 4,
 "nbformat_minor": 2
}
