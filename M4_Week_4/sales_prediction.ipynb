{
 "cells": [
  {
   "cell_type": "code",
   "execution_count": 1,
   "metadata": {},
   "outputs": [],
   "source": [
    "import numpy as np\n",
    "\n",
    "class CustomLinearRegression:\n",
    "    def __init__(self, X_data, y_target, learning_rate=0.01, num_epochs=10000):\n",
    "        self.num_samples = X_data.shape[0]\n",
    "        self.X_data = np.c_[np.ones((self.num_samples, 1)), X_data]\n",
    "        self.y_target = y_target\n",
    "        self.learning_rate = learning_rate\n",
    "        self.num_epochs = num_epochs\n",
    "\n",
    "        # Initial weights\n",
    "        self.theta = np.random.randn(self.X_data.shape[1], 1)\n",
    "        self.losses = []\n",
    "\n",
    "    \n",
    "    def compute_loss(self, y_pred, y_target):\n",
    "        # Mean Square Error Loss\n",
    "        loss = np.mean((y_pred - y_target) ** 2)\n",
    "        return loss\n",
    "\n",
    "    \n",
    "    def predict(self, X_data):\n",
    "        # Add bias term if X_data doesn't have it\n",
    "        if X_data.shape[1] != self.theta.shape[0]:\n",
    "            X_data = np.c_[np.ones((X_data.shape[0], 1)), X_data]\n",
    "        \n",
    "        # Make predictions\n",
    "        y_pred = np.dot(X_data, self.theta)\n",
    "        return y_pred\n",
    "    \n",
    "    def r2score(y_pred, y):\n",
    "        numerator = np.sum((y - y_pred) ** 2)\n",
    "        denominator = np.sum((y - np.mean(y)) ** 2)\n",
    "        r2 = 1 - (numerator / denominator)\n",
    "        return r2\n",
    "        \n",
    "    \n",
    "    def fit(self):\n",
    "        for epoch in range(self.num_epochs):\n",
    "            # Forward pass\n",
    "            y_pred = self.predict(self.X_data)\n",
    "            \n",
    "            # Compute Loss\n",
    "            loss = self.compute_loss(y_pred, self.y_target)\n",
    "            self.losses.append(loss)\n",
    "            \n",
    "            # Compute gradients\n",
    "            gradient = (2/self.num_samples) * np.dot(self.X_data.T, (y_pred - self.target))\n",
    "            \n",
    "            # Update weights using gradient descent\n",
    "            self.theta -= self.learning_rate * gradient\n",
    "            \n",
    "            if (epoch % 50) == 0:\n",
    "                print(f\"Epoch: {epoch} - Loss: {loss}\")\n",
    "        \n",
    "        return {\n",
    "            'loss': sum(self.losses)/len(self.losses),\n",
    "            'weight': self.theta\n",
    "        }\n"
   ]
  },
  {
   "cell_type": "code",
   "execution_count": 6,
   "metadata": {},
   "outputs": [
    {
     "name": "stdout",
     "output_type": "stream",
     "text": [
      "1.0\n",
      "-2.235294117647059\n"
     ]
    }
   ],
   "source": [
    "def r2score(y_pred, y):\n",
    "        numerator = np.sum((y - y_pred) ** 2)\n",
    "        denominator = np.sum((y - np.mean(y)) ** 2)\n",
    "        r2 = 1 - (numerator / denominator)\n",
    "        return r2\n",
    "\n",
    "# Case 1\n",
    "y_pred = np.array([1, 2, 3, 4, 5])\n",
    "y = np.array([1, 2, 3, 4, 5])\n",
    "print(r2score(y_pred, y))\n",
    "\n",
    "# Case 2\n",
    "y_pred = np.array([1, 2, 3, 4, 5])\n",
    "y = np.array([3, 5, 5, 2, 4])\n",
    "print(r2score(y_pred, y))"
   ]
  },
  {
   "cell_type": "code",
   "execution_count": null,
   "metadata": {},
   "outputs": [],
   "source": [
    "import numpy as np\n",
    "def create_polynomial_feature(X, degree=2):\n",
    "    n_samples = X.shape[0]\n",
    "    \n",
    "    X_new = np.ones((n_samples, degree+1))\n",
    "    \n",
    "    for i in range(1, degree+1):\n",
    "        X_new[:, i] = X[:, 0] ** i\n",
    "    \n",
    "    return X_new"
   ]
  },
  {
   "cell_type": "code",
   "execution_count": null,
   "metadata": {},
   "outputs": [],
   "source": [
    "def create_polynomial_feature(X, degree=2):\n",
    "    X_mem = []\n",
    "    for X_sub in X.T:\n",
    "        X_sub = X_sub.T\n",
    "        X_new = X_sub\n",
    "        for d in range(2, degree+1):\n",
    "            X_new = np.c_[X_new, X_sub ** d]\n",
    "        X_mem.extend(X_new.T)\n",
    "    return np.c_[X_mem].T\n",
    "    "
   ]
  },
  {
   "cell_type": "code",
   "execution_count": null,
   "metadata": {},
   "outputs": [],
   "source": [
    "\n",
    "    "
   ]
  }
 ],
 "metadata": {
  "kernelspec": {
   "display_name": "base",
   "language": "python",
   "name": "python3"
  },
  "language_info": {
   "codemirror_mode": {
    "name": "ipython",
    "version": 3
   },
   "file_extension": ".py",
   "mimetype": "text/x-python",
   "name": "python",
   "nbconvert_exporter": "python",
   "pygments_lexer": "ipython3",
   "version": "3.12.3"
  }
 },
 "nbformat": 4,
 "nbformat_minor": 2
}
