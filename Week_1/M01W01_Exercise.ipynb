{
 "cells": [
  {
   "cell_type": "markdown",
   "metadata": {},
   "source": [
    "## 1. Viết function thực hiện đánh giá classification model bằng F1-Score."
   ]
  },
  {
   "cell_type": "code",
   "execution_count": 1,
   "metadata": {},
   "outputs": [
    {
     "name": "stdout",
     "output_type": "stream",
     "text": [
      "Precision: 0.40\n",
      "Recall: 0.29\n",
      "F1-score: 0.33\n",
      "Precision: 0.33\n",
      "Recall: 0.29\n",
      "F1-score: 0.31\n"
     ]
    },
    {
     "data": {
      "text/plain": [
       "(0.3333333333333333, 0.2857142857142857, 0.30769230769230765)"
      ]
     },
     "execution_count": 1,
     "metadata": {},
     "output_type": "execute_result"
    }
   ],
   "source": [
    "def calc_f1_score(tp, fp, fn):\n",
    "    # Validate input types\n",
    "    if not (isinstance(tp, int) and isinstance(fp, int) and isinstance(fn, int)):\n",
    "        print('All inputs must be integers.')\n",
    "        return\n",
    "    \n",
    "    # Validate input values\n",
    "    if tp <= 0 or fp <= 0 or fn <= 0:\n",
    "        print('tp, fp, and fn must be greater than zero.')\n",
    "        return\n",
    "    \n",
    "    # Calculate Precision\n",
    "    precision = tp / (tp + fp)\n",
    "    # Calculate Recall\n",
    "    recall = tp / (tp + fn)\n",
    "    # Calculate F1-score\n",
    "    if precision + recall == 0:\n",
    "        f1_score = 0\n",
    "    else:\n",
    "        f1_score = 2 * (precision * recall) / (precision + recall)\n",
    "    \n",
    "    # Print the results\n",
    "    print(f'Precision: {precision:.2f}')\n",
    "    print(f'Recall: {recall:.2f}')\n",
    "    print(f'F1-score: {f1_score:.2f}')\n",
    "    \n",
    "    return precision, recall, f1_score\n",
    "\n",
    "# Test the function with example inputs\n",
    "calc_f1_score(tp=2, fp=3, fn=5)\n",
    "calc_f1_score(tp=2, fp=4, fn=5)\n"
   ]
  },
  {
   "cell_type": "markdown",
   "metadata": {},
   "source": [
    "## 2. Viết function mô phỏng theo 3 activation function."
   ]
  },
  {
   "cell_type": "code",
   "execution_count": 3,
   "metadata": {},
   "outputs": [],
   "source": [
    "import math\n",
    "\n",
    "def is_number(x):\n",
    "    try:\n",
    "        float(x)\n",
    "        return True\n",
    "    except ValueError:\n",
    "        return False\n",
    "\n",
    "def sigmoid(x):\n",
    "    return 1 / (1 + math.exp(-x))\n",
    "\n",
    "def relu(x):\n",
    "    return max(0, x)\n",
    "\n",
    "def elu(x, alpha=0.01):\n",
    "    return x if x > 0 else alpha * (math.exp(x) - 1)\n",
    "\n",
    "def activation_function(x, function_name):\n",
    "    if not is_number(x):\n",
    "        print('x must be a number')\n",
    "        return\n",
    "    \n",
    "    x = float(x)\n",
    "    \n",
    "    if function_name == 'sigmoid':\n",
    "        result = sigmoid(x)\n",
    "    elif function_name == 'relu':\n",
    "        result = relu(x)\n",
    "    elif function_name == 'elu':\n",
    "        result = elu(x)\n",
    "    else:\n",
    "        print(f'{function_name} is not supported')\n",
    "        return\n",
    "    \n",
    "    print(f'{function_name}: f({x})={result}')\n",
    "    \n",
    "# Example usage:\n",
    "x = input(\"Enter a value for x: \")\n",
    "function_name = input(\"Enter the activation function name (sigmoid, relu, elu): \")\n",
    "activation_function(x, function_name)"
   ]
  },
  {
   "cell_type": "markdown",
   "metadata": {},
   "source": [
    "## 3. Viết function lựa chọn regression loss function để tính loss:"
   ]
  },
  {
   "cell_type": "code",
   "execution_count": null,
   "metadata": {},
   "outputs": [],
   "source": [
    "import random\n",
    "import math\n",
    "\n",
    "def is_numeric(s):\n",
    "    try:\n",
    "        int(s)\n",
    "        return True\n",
    "    except ValueError:\n",
    "        return False\n",
    "\n",
    "def calculate_mae(predictions, targets):\n",
    "    n = len(predictions)\n",
    "    return sum(abs(p - t) for p, t in zip(predictions, targets)) / n\n",
    "\n",
    "def calculate_mse(predictions, targets):\n",
    "    n = len(predictions)\n",
    "    return sum((p - t) ** 2 for p, t in zip(predictions, targets)) / n\n",
    "\n",
    "def calculate_rmse(predictions, targets):\n",
    "    mse = calculate_mse(predictions, targets)\n",
    "    return math.sqrt(mse)\n",
    "\n",
    "def regression_loss(num_samples, loss_name):\n",
    "    if not is_numeric(num_samples):\n",
    "        print(\"Number of samples must be an integer number\")\n",
    "        return\n",
    "    \n",
    "    num_samples = int(num_samples)\n",
    "    if num_samples <= 0:\n",
    "        print(\"Number of samples must be greater than zero\")\n",
    "        return\n",
    "    \n",
    "    valid_losses = ['MAE', 'MSE', 'RMSE']\n",
    "    if loss_name not in valid_losses:\n",
    "        print(f\"{loss_name} is not supported\")\n",
    "        return\n",
    "    \n",
    "    # Generate random predictions and targets\n",
    "    predictions = [random.uniform(0, 10) for _ in range(num_samples)]\n",
    "    targets = [random.uniform(0, 10) for _ in range(num_samples)]\n",
    "    \n",
    "    # Calculate the specified loss\n",
    "    if loss_name == 'MAE':\n",
    "        loss = calculate_mae(predictions, targets)\n",
    "    elif loss_name == 'MSE':\n",
    "        loss = calculate_mse(predictions, targets)\n",
    "    elif loss_name == 'RMSE':\n",
    "        loss = calculate_rmse(predictions, targets)\n",
    "    \n",
    "    # Print results\n",
    "    print(f\"loss name: {loss_name}\")\n",
    "    for i in range(num_samples):\n",
    "        print(f\"sample-{i}\")\n",
    "        print(f\"predict: {predictions[i]:.2f}\")\n",
    "        print(f\"target: {targets[i]:.2f}\")\n",
    "        print(f\"loss: {loss:.2f}\")\n",
    "\n",
    "# Example usage:\n",
    "num_samples = input(\"Enter the number of samples: \")\n",
    "loss_name = input(\"Enter the loss name (MAE, MSE, RMSE): \")\n",
    "regression_loss(num_samples, loss_name)"
   ]
  },
  {
   "cell_type": "markdown",
   "metadata": {},
   "source": [
    "## 4. Viết 4 functions để ước lượng các hàm số sau."
   ]
  },
  {
   "cell_type": "code",
   "execution_count": 1,
   "metadata": {},
   "outputs": [],
   "source": [
    "def factorial(n):\n",
    "    if n == 0:\n",
    "        return 1\n",
    "    result = 1\n",
    "    for i in range(1, n + 1):\n",
    "        result *= i\n",
    "    return result\n",
    "\n",
    "def sin_approx(x, n):\n",
    "    result = 0\n",
    "    for i in range(n):\n",
    "        term = ((-1) ** i) * (x ** (2 * i + 1)) / factorial(2 * i + 1)\n",
    "        result += term\n",
    "    return result\n",
    "\n",
    "def cos_approx(x, n):\n",
    "    result = 0\n",
    "    for i in range(n):\n",
    "        term = ((-1) ** i) * (x ** (2 * i)) / factorial(2 * i)\n",
    "        result += term\n",
    "    return result\n",
    "\n",
    "def sinh_approx(x, n):\n",
    "    result = 0\n",
    "    for i in range(n):\n",
    "        term = (x ** (2 * i + 1)) / factorial(2 * i + 1)\n",
    "        result += term\n",
    "    return result\n",
    "\n",
    "def cosh_approx(x, n):\n",
    "    result = 0\n",
    "    for i in range(n):\n",
    "        term = (x ** (2 * i)) / factorial(2 * i)\n",
    "        result += term\n",
    "    return result\n",
    "\n",
    "# Example usage:\n",
    "x = float(input(\"Enter the value of x (in radians): \"))\n",
    "n = int(input(\"Enter the number of terms (n): \"))\n",
    "\n",
    "print(f\"sin({x}) ≈ {sin_approx(x, n)}\")\n",
    "print(f\"cos({x}) ≈ {cos_approx(x, n)}\")\n",
    "print(f\"sinh({x}) ≈ {sinh_approx(x, n)}\")\n",
    "print(f\"cosh({x}) ≈ {cosh_approx(x, n)}\")\n"
   ]
  },
  {
   "cell_type": "markdown",
   "metadata": {},
   "source": [
    "## 5. Viết function thực hiện Mean Difference of nth Root Error:"
   ]
  },
  {
   "cell_type": "code",
   "execution_count": null,
   "metadata": {},
   "outputs": [],
   "source": [
    "def md_nre_single_sample(y, y_hat, n, p):\n",
    "    return abs((y ** (1 / n)) - (y_hat ** (1 / n))) ** p\n",
    "\n",
    "def md_nre(y, y_hat, n, p):\n",
    "    if len(y) != len(y_hat):\n",
    "        raise ValueError(\"The length of y and y_hat must be the same.\")\n",
    "    \n",
    "    m = len(y)\n",
    "    md_nre_value = (1 / m) * sum(abs((y[i] ** (1 / n)) - (y_hat[i] ** (1 / n))) ** p for i in range(m))\n",
    "    return md_nre_value\n",
    "\n",
    "# Test cases for single sample\n",
    "print(md_nre_single_sample(y=100, y_hat=99.5, n=2, p=1))  # Expected: 0.025031328369998107\n",
    "print(md_nre_single_sample(y=50, y_hat=49.5, n=2, p=1))   # Expected: 0.03544417213033135\n",
    "print(md_nre_single_sample(y=20, y_hat=19.5, n=2, p=1))   # Expected: 0.05625552183565574\n",
    "print(md_nre_single_sample(y=0.6, y_hat=0.1, n=2, p=1))   # Expected: 0.45836890322464546\n",
    "\n",
    "# Test cases for list of samples\n",
    "y_list = [100, 50, 20, 0.6]\n",
    "y_hat_list = [99.5, 49.5, 19.5, 0.1]\n",
    "\n",
    "print(md_nre(y_list, y_hat_list, n=2, p=1))  # Should compute the mean of the individual MD_nRE values\n",
    "\n",
    "# Additional example for verification:\n",
    "y_list = [1, 4, 9, 16]\n",
    "y_hat_list = [1, 2, 3, 4]\n",
    "print(md_nre(y_list, y_hat_list, n=2, p=2))  # Verify with a different n and p values\n"
   ]
  }
 ],
 "metadata": {
  "kernelspec": {
   "display_name": "Python 3",
   "language": "python",
   "name": "python3"
  },
  "language_info": {
   "codemirror_mode": {
    "name": "ipython",
    "version": 3
   },
   "file_extension": ".py",
   "mimetype": "text/x-python",
   "name": "python",
   "nbconvert_exporter": "python",
   "pygments_lexer": "ipython3",
   "version": "3.10.5"
  }
 },
 "nbformat": 4,
 "nbformat_minor": 2
}
